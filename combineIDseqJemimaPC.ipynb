{
 "metadata": {
  "language_info": {
   "codemirror_mode": {
    "name": "ipython",
    "version": 3
   },
   "file_extension": ".py",
   "mimetype": "text/x-python",
   "name": "python",
   "nbconvert_exporter": "python",
   "pygments_lexer": "ipython3",
   "version": "3.8.3-final"
  },
  "orig_nbformat": 2,
  "kernelspec": {
   "name": "python3",
   "display_name": "Python 3",
   "language": "python"
  }
 },
 "nbformat": 4,
 "nbformat_minor": 2,
 "cells": [
  {
   "source": [
    "# Combine the idSeq output files\n",
    "\n",
    "Steps:\n",
    "\n",
    "1. read in files\n",
    "2. add nt mapping and nr mapping reads\n",
    "3. combine samples into one table [outside merge]\n",
    "4. reduce to all not eukaryota\n",
    "5. save\n",
    "\n",
    "## 1: Read in files (and load packages)"
   ],
   "cell_type": "markdown",
   "metadata": {}
  },
  {
   "cell_type": "code",
   "execution_count": 2,
   "metadata": {},
   "outputs": [],
   "source": [
    "# !pip install pandas\n",
    "import pandas as pd\n",
    "import numpy as np\n",
    "from functools import reduce\n",
    "import glob \n",
    "import os"
   ]
  },
  {
   "cell_type": "code",
   "execution_count": 3,
   "metadata": {},
   "outputs": [],
   "source": [
    "path_orig = 'C:\\\\Users\\\\Seth\\\\Documents\\\\GitHub\\\\JemimaWestern\\\\westernIDseq\\\\jemimamasterssb_1454\\\\'\n",
    "# path_orig = './jemimamasterssb_1454/' # online\n",
    "\n",
    "all_files_orig = glob.glob(path_orig + \"*.csv\")\n",
    "# all_files_orig\n"
   ]
  },
  {
   "cell_type": "code",
   "execution_count": 4,
   "metadata": {},
   "outputs": [
    {
     "output_type": "stream",
     "name": "stdout",
     "text": [
      "['SRR11440601', 'SRR11440602', 'SRR11440603', 'SRR11440604', 'SRR11440605', 'SRR11440606', 'SRR11440607', 'SRR11440608', 'SRR11440609', 'SRR11440610', 'SRR11440611', 'SRR11440612', 'SRR11440613', 'SRR11440614', 'SRR11440615', 'SRR11440616', 'SRR11440617', 'SRR11440618', 'SRR11440619', 'SRR11440620', 'SRR11440621', 'SRR11440622', 'SRR11440623', 'SRR11440624', 'SRR11440625', 'SRR11440626', 'SRR11440627', 'SRR11440628', 'SRR11440629', 'SRR11440630', 'SRR11440631', 'SRR11440632', 'SRR11440633', 'SRR11440634', 'SRR11440635', 'SRR11440636', 'SRR11440637', 'SRR11440638', 'SRR11440639', 'SRR11440640', 'SRR11440641', 'SRR11440642', 'SRR11440643', 'SRR11440644', 'SRR11440645', 'SRR11440646', 'SRR11440647', 'SRR11440648', 'SRR11440649', 'SRR11440650', 'SRR11440651', 'SRR11440652', 'SRR11440653', 'SRR11440654', 'SRR11440655', 'SRR11440656', 'SRR11440657', 'SRR11440658', 'SRR11440659', 'SRR11440660', 'SRR11440661', 'SRR11440662', 'SRR11440663', 'SRR11440664', 'SRR11440665', 'SRR11440666', 'SRR11440667', 'SRR11440668', 'SRR11440669', 'SRR11440670', 'SRR11440671', 'SRR11440672', 'SRR11440673', 'SRR11440674', 'SRR11440675', 'SRR11440676', 'SRR11440677', 'SRR11440678', 'SRR11440679', 'SRR11440680', 'SRR11440681', 'SRR11440682', 'SRR11440683', 'SRR11440684', 'SRR11440685', 'SRR11440686', 'SRR11440687', 'SRR11440688', 'SRR11440689', 'SRR11440690', 'SRR11440691', 'SRR11440692', 'SRR11440693', 'SRR11440694', 'SRR11440695', 'SRR11440696', 'SRR11440697', 'SRR11440698', 'SRR11440699', 'SRR11440700', 'SRR11440701', 'SRR11440702', 'SRR11440703', 'SRR11440704', 'SRR11440705', 'SRR11440706', 'SRR11440707', 'SRR11440708', 'SRR11440709', 'SRR11440710', 'SRR11440711', 'SRR11440712', 'SRR11440713', 'SRR11440714', 'SRR11440715', 'SRR11440716', 'SRR11440717', 'SRR11440718', 'SRR11440719', 'SRR11440720', 'SRR11440721', 'SRR11440722', 'SRR11440723', 'SRR11440724', 'SRR11440725', 'SRR11440726', 'SRR11440727', 'SRR11440728', 'SRR11440729', 'SRR11440730', 'SRR11440731', 'SRR11440732', 'SRR11440733', 'SRR11440734', 'SRR11440735', 'SRR11440736', 'SRR11440737', 'SRR11440738', 'SRR11440739', 'SRR11440740', 'SRR11440741', 'SRR11440742', 'SRR11440743', 'SRR11440744']\n"
     ]
    }
   ],
   "source": [
    "ids = []\n",
    "# extract sample id from the file name\n",
    "def getIds(x):\n",
    "    id = file.split('\\\\')[-1].split('_')[0] # '/' for online\n",
    "    return id\n",
    "\n",
    "for file in all_files_orig:\n",
    "    ids.append(getIds(file))\n",
    "\n",
    "print(ids)\n"
   ]
  },
  {
   "cell_type": "code",
   "execution_count": 5,
   "metadata": {},
   "outputs": [
    {
     "output_type": "execute_result",
     "data": {
      "text/plain": [
       "      tax_id  tax_level  genus_tax_id                           name  \\\n",
       "0    1980421          2       1980421                     Phasivirus   \n",
       "1    1980610          1       1980421  Phasi Charoen-like phasivirus   \n",
       "2    1884455          2       1884455                     Anphevirus   \n",
       "3    2230910          1       1884455               Aedes anphevirus   \n",
       "4    2059675          1       1884455       Aedes aegypti anphevirus   \n",
       "..       ...        ...           ...                            ...   \n",
       "107     1747          1       1912216            Cutibacterium acnes   \n",
       "108      561          2           561                    Escherichia   \n",
       "109      562          1           561               Escherichia coli   \n",
       "110  2282523          2       2282523                  Methylorubrum   \n",
       "111   223967          1       2282523           Methylorubrum populi   \n",
       "\n",
       "     category  nt_count  nr_count  \n",
       "0     viruses       892     633.0  \n",
       "1     viruses       892     633.0  \n",
       "2     viruses       190     124.0  \n",
       "3     viruses       170     123.0  \n",
       "4     viruses        20       1.0  \n",
       "..        ...       ...       ...  \n",
       "107  bacteria        22       0.0  \n",
       "108  bacteria        20       0.0  \n",
       "109  bacteria        20       0.0  \n",
       "110  bacteria         2       NaN  \n",
       "111  bacteria         2       0.0  \n",
       "\n",
       "[112 rows x 7 columns]"
      ],
      "text/html": "<div>\n<style scoped>\n    .dataframe tbody tr th:only-of-type {\n        vertical-align: middle;\n    }\n\n    .dataframe tbody tr th {\n        vertical-align: top;\n    }\n\n    .dataframe thead th {\n        text-align: right;\n    }\n</style>\n<table border=\"1\" class=\"dataframe\">\n  <thead>\n    <tr style=\"text-align: right;\">\n      <th></th>\n      <th>tax_id</th>\n      <th>tax_level</th>\n      <th>genus_tax_id</th>\n      <th>name</th>\n      <th>category</th>\n      <th>nt_count</th>\n      <th>nr_count</th>\n    </tr>\n  </thead>\n  <tbody>\n    <tr>\n      <th>0</th>\n      <td>1980421</td>\n      <td>2</td>\n      <td>1980421</td>\n      <td>Phasivirus</td>\n      <td>viruses</td>\n      <td>892</td>\n      <td>633.0</td>\n    </tr>\n    <tr>\n      <th>1</th>\n      <td>1980610</td>\n      <td>1</td>\n      <td>1980421</td>\n      <td>Phasi Charoen-like phasivirus</td>\n      <td>viruses</td>\n      <td>892</td>\n      <td>633.0</td>\n    </tr>\n    <tr>\n      <th>2</th>\n      <td>1884455</td>\n      <td>2</td>\n      <td>1884455</td>\n      <td>Anphevirus</td>\n      <td>viruses</td>\n      <td>190</td>\n      <td>124.0</td>\n    </tr>\n    <tr>\n      <th>3</th>\n      <td>2230910</td>\n      <td>1</td>\n      <td>1884455</td>\n      <td>Aedes anphevirus</td>\n      <td>viruses</td>\n      <td>170</td>\n      <td>123.0</td>\n    </tr>\n    <tr>\n      <th>4</th>\n      <td>2059675</td>\n      <td>1</td>\n      <td>1884455</td>\n      <td>Aedes aegypti anphevirus</td>\n      <td>viruses</td>\n      <td>20</td>\n      <td>1.0</td>\n    </tr>\n    <tr>\n      <th>...</th>\n      <td>...</td>\n      <td>...</td>\n      <td>...</td>\n      <td>...</td>\n      <td>...</td>\n      <td>...</td>\n      <td>...</td>\n    </tr>\n    <tr>\n      <th>107</th>\n      <td>1747</td>\n      <td>1</td>\n      <td>1912216</td>\n      <td>Cutibacterium acnes</td>\n      <td>bacteria</td>\n      <td>22</td>\n      <td>0.0</td>\n    </tr>\n    <tr>\n      <th>108</th>\n      <td>561</td>\n      <td>2</td>\n      <td>561</td>\n      <td>Escherichia</td>\n      <td>bacteria</td>\n      <td>20</td>\n      <td>0.0</td>\n    </tr>\n    <tr>\n      <th>109</th>\n      <td>562</td>\n      <td>1</td>\n      <td>561</td>\n      <td>Escherichia coli</td>\n      <td>bacteria</td>\n      <td>20</td>\n      <td>0.0</td>\n    </tr>\n    <tr>\n      <th>110</th>\n      <td>2282523</td>\n      <td>2</td>\n      <td>2282523</td>\n      <td>Methylorubrum</td>\n      <td>bacteria</td>\n      <td>2</td>\n      <td>NaN</td>\n    </tr>\n    <tr>\n      <th>111</th>\n      <td>223967</td>\n      <td>1</td>\n      <td>2282523</td>\n      <td>Methylorubrum populi</td>\n      <td>bacteria</td>\n      <td>2</td>\n      <td>0.0</td>\n    </tr>\n  </tbody>\n</table>\n<p>112 rows × 7 columns</p>\n</div>"
     },
     "metadata": {},
     "execution_count": 5
    }
   ],
   "source": [
    "\n",
    "# Make empty dictionaries to store files in\n",
    "dfs_agg ={} # agg is the aggregate score (prob wont use)\n",
    "\n",
    "# test names make sense\n",
    "# for f in all_files_orig:\n",
    "    # print(os.path.splitext(os.path.basename(f))[0].split('_')[0])\n",
    "\n",
    "#  read files into dictionary\n",
    "for f in all_files_orig:\n",
    "    dfs_agg[os.path.splitext(os.path.basename(f))[0].split('_')[0]] =  pd.read_csv(f, sep=',', header=0, usecols=[\"tax_id\",\t\"tax_level\",'genus_tax_id',\t'name',\t'category',\"agg_score\"])\n",
    "\n",
    "\n",
    "dfs_nrnt ={} #nr nt is more likely what we'll use\n",
    "for f in all_files_orig:\n",
    "    dfs_nrnt[os.path.splitext(os.path.basename(f))[0].split('_')[0]] = pd.read_csv(f, sep=',', header=0, usecols=[\"tax_id\",\t\"tax_level\", 'genus_tax_id','name',\t'category', \"nt_count\", \"nr_count\"])\n",
    "\n",
    "# dfs_agg['SRR11440668']\n",
    "\n",
    "dfs_nrnt['SRR11440668']"
   ]
  },
  {
   "cell_type": "code",
   "execution_count": 6,
   "metadata": {},
   "outputs": [
    {
     "output_type": "execute_result",
     "data": {
      "text/plain": [
       "      tax_id  tax_level  genus_tax_id  \\\n",
       "0    1980421          2       1980421   \n",
       "1    1980610          1       1980421   \n",
       "2 -200011006          2    -200011006   \n",
       "3    2603435          1    -200011006   \n",
       "4    1884455          2       1884455   \n",
       "\n",
       "                                             name category  \n",
       "0                                      Phasivirus  viruses  \n",
       "1                   Phasi Charoen-like phasivirus  viruses  \n",
       "2  non-genus-specific reads in family Totiviridae  viruses  \n",
       "3                         Aedes aegypti totivirus  viruses  \n",
       "4                                      Anphevirus  viruses  "
      ],
      "text/html": "<div>\n<style scoped>\n    .dataframe tbody tr th:only-of-type {\n        vertical-align: middle;\n    }\n\n    .dataframe tbody tr th {\n        vertical-align: top;\n    }\n\n    .dataframe thead th {\n        text-align: right;\n    }\n</style>\n<table border=\"1\" class=\"dataframe\">\n  <thead>\n    <tr style=\"text-align: right;\">\n      <th></th>\n      <th>tax_id</th>\n      <th>tax_level</th>\n      <th>genus_tax_id</th>\n      <th>name</th>\n      <th>category</th>\n    </tr>\n  </thead>\n  <tbody>\n    <tr>\n      <th>0</th>\n      <td>1980421</td>\n      <td>2</td>\n      <td>1980421</td>\n      <td>Phasivirus</td>\n      <td>viruses</td>\n    </tr>\n    <tr>\n      <th>1</th>\n      <td>1980610</td>\n      <td>1</td>\n      <td>1980421</td>\n      <td>Phasi Charoen-like phasivirus</td>\n      <td>viruses</td>\n    </tr>\n    <tr>\n      <th>2</th>\n      <td>-200011006</td>\n      <td>2</td>\n      <td>-200011006</td>\n      <td>non-genus-specific reads in family Totiviridae</td>\n      <td>viruses</td>\n    </tr>\n    <tr>\n      <th>3</th>\n      <td>2603435</td>\n      <td>1</td>\n      <td>-200011006</td>\n      <td>Aedes aegypti totivirus</td>\n      <td>viruses</td>\n    </tr>\n    <tr>\n      <th>4</th>\n      <td>1884455</td>\n      <td>2</td>\n      <td>1884455</td>\n      <td>Anphevirus</td>\n      <td>viruses</td>\n    </tr>\n  </tbody>\n</table>\n</div>"
     },
     "metadata": {},
     "execution_count": 6
    }
   ],
   "source": [
    "# Need to make a master file with all tax info. \n",
    "\n",
    "tax = pd.concat(dfs_nrnt.values(), ignore_index=True)\n",
    "tax = tax[['tax_id', 'tax_level', 'genus_tax_id', 'name', 'category']]  # just the taxa info\n",
    "\n",
    "# tax 12707 rows\n",
    "# get unique\n",
    "\n",
    "tax=tax.drop_duplicates()\n",
    "\n",
    "# now 2444 taxa\n",
    "tax.head()\n",
    "# dfs_nrnt.head()"
   ]
  },
  {
   "source": [
    "## 2. Calculate the total number of counts (both nt and nr) \n"
   ],
   "cell_type": "markdown",
   "metadata": {}
  },
  {
   "cell_type": "code",
   "execution_count": 7,
   "metadata": {},
   "outputs": [
    {
     "output_type": "execute_result",
     "data": {
      "text/plain": [
       "    tax_id  tax_level  genus_tax_id                           name category  \\\n",
       "0  1980421          2       1980421                     Phasivirus  viruses   \n",
       "1  1980610          1       1980421  Phasi Charoen-like phasivirus  viruses   \n",
       "2  1884455          2       1884455                     Anphevirus  viruses   \n",
       "3  2230910          1       1884455               Aedes anphevirus  viruses   \n",
       "4  2059675          1       1884455       Aedes aegypti anphevirus  viruses   \n",
       "\n",
       "   nt_count  nr_count  totCounts  \n",
       "0       892     633.0     1525.0  \n",
       "1       892     633.0     1525.0  \n",
       "2       190     124.0      314.0  \n",
       "3       170     123.0      293.0  \n",
       "4        20       1.0       21.0  "
      ],
      "text/html": "<div>\n<style scoped>\n    .dataframe tbody tr th:only-of-type {\n        vertical-align: middle;\n    }\n\n    .dataframe tbody tr th {\n        vertical-align: top;\n    }\n\n    .dataframe thead th {\n        text-align: right;\n    }\n</style>\n<table border=\"1\" class=\"dataframe\">\n  <thead>\n    <tr style=\"text-align: right;\">\n      <th></th>\n      <th>tax_id</th>\n      <th>tax_level</th>\n      <th>genus_tax_id</th>\n      <th>name</th>\n      <th>category</th>\n      <th>nt_count</th>\n      <th>nr_count</th>\n      <th>totCounts</th>\n    </tr>\n  </thead>\n  <tbody>\n    <tr>\n      <th>0</th>\n      <td>1980421</td>\n      <td>2</td>\n      <td>1980421</td>\n      <td>Phasivirus</td>\n      <td>viruses</td>\n      <td>892</td>\n      <td>633.0</td>\n      <td>1525.0</td>\n    </tr>\n    <tr>\n      <th>1</th>\n      <td>1980610</td>\n      <td>1</td>\n      <td>1980421</td>\n      <td>Phasi Charoen-like phasivirus</td>\n      <td>viruses</td>\n      <td>892</td>\n      <td>633.0</td>\n      <td>1525.0</td>\n    </tr>\n    <tr>\n      <th>2</th>\n      <td>1884455</td>\n      <td>2</td>\n      <td>1884455</td>\n      <td>Anphevirus</td>\n      <td>viruses</td>\n      <td>190</td>\n      <td>124.0</td>\n      <td>314.0</td>\n    </tr>\n    <tr>\n      <th>3</th>\n      <td>2230910</td>\n      <td>1</td>\n      <td>1884455</td>\n      <td>Aedes anphevirus</td>\n      <td>viruses</td>\n      <td>170</td>\n      <td>123.0</td>\n      <td>293.0</td>\n    </tr>\n    <tr>\n      <th>4</th>\n      <td>2059675</td>\n      <td>1</td>\n      <td>1884455</td>\n      <td>Aedes aegypti anphevirus</td>\n      <td>viruses</td>\n      <td>20</td>\n      <td>1.0</td>\n      <td>21.0</td>\n    </tr>\n  </tbody>\n</table>\n</div>"
     },
     "metadata": {},
     "execution_count": 7
    }
   ],
   "source": [
    "for key in dfs_nrnt: # add nr counts and nt counts, may be prob w nan's forcing to be float\n",
    "    dfs_nrnt[key]['totCounts']=dfs_nrnt[key]['nt_count']+dfs_nrnt[key]['nr_count']\n",
    "dfs_nrnt['SRR11440668'].head()"
   ]
  },
  {
   "cell_type": "code",
   "execution_count": 8,
   "metadata": {},
   "outputs": [
    {
     "output_type": "execute_result",
     "data": {
      "text/plain": [
       "      tax_id  tax_level  genus_tax_id  \\\n",
       "0    1980421          2       1980421   \n",
       "1    1980610          1       1980421   \n",
       "2 -200011006          2    -200011006   \n",
       "3    2603435          1    -200011006   \n",
       "4    1884455          2       1884455   \n",
       "\n",
       "                                             name category  \n",
       "0                                      Phasivirus  viruses  \n",
       "1                   Phasi Charoen-like phasivirus  viruses  \n",
       "2  non-genus-specific reads in family Totiviridae  viruses  \n",
       "3                         Aedes aegypti totivirus  viruses  \n",
       "4                                      Anphevirus  viruses  "
      ],
      "text/html": "<div>\n<style scoped>\n    .dataframe tbody tr th:only-of-type {\n        vertical-align: middle;\n    }\n\n    .dataframe tbody tr th {\n        vertical-align: top;\n    }\n\n    .dataframe thead th {\n        text-align: right;\n    }\n</style>\n<table border=\"1\" class=\"dataframe\">\n  <thead>\n    <tr style=\"text-align: right;\">\n      <th></th>\n      <th>tax_id</th>\n      <th>tax_level</th>\n      <th>genus_tax_id</th>\n      <th>name</th>\n      <th>category</th>\n    </tr>\n  </thead>\n  <tbody>\n    <tr>\n      <th>0</th>\n      <td>1980421</td>\n      <td>2</td>\n      <td>1980421</td>\n      <td>Phasivirus</td>\n      <td>viruses</td>\n    </tr>\n    <tr>\n      <th>1</th>\n      <td>1980610</td>\n      <td>1</td>\n      <td>1980421</td>\n      <td>Phasi Charoen-like phasivirus</td>\n      <td>viruses</td>\n    </tr>\n    <tr>\n      <th>2</th>\n      <td>-200011006</td>\n      <td>2</td>\n      <td>-200011006</td>\n      <td>non-genus-specific reads in family Totiviridae</td>\n      <td>viruses</td>\n    </tr>\n    <tr>\n      <th>3</th>\n      <td>2603435</td>\n      <td>1</td>\n      <td>-200011006</td>\n      <td>Aedes aegypti totivirus</td>\n      <td>viruses</td>\n    </tr>\n    <tr>\n      <th>4</th>\n      <td>1884455</td>\n      <td>2</td>\n      <td>1884455</td>\n      <td>Anphevirus</td>\n      <td>viruses</td>\n    </tr>\n  </tbody>\n</table>\n</div>"
     },
     "metadata": {},
     "execution_count": 8
    }
   ],
   "source": [
    "# make a df with just the taxa info\n",
    "df_merged_cnts=pd.DataFrame(tax)\n",
    "df_merged_cnts.head()\n"
   ]
  },
  {
   "source": [
    "## 3. Combine all the different files, keeping just the totCounts by merging with that taxa df. "
   ],
   "cell_type": "markdown",
   "metadata": {}
  },
  {
   "cell_type": "code",
   "execution_count": 9,
   "metadata": {},
   "outputs": [],
   "source": [
    "colnames=[\"tax_id\",\t\"tax_level\", 'genus_tax_id','name',\t'category']\n",
    "for key in dfs_nrnt:\n",
    "    colnames.append(key)\n",
    "    df_merged_cnts = pd.merge(df_merged_cnts, dfs_nrnt[key][['tax_id','totCounts']], on=['tax_id'], how='outer')\n"
   ]
  },
  {
   "source": [
    "Put the new column names in"
   ],
   "cell_type": "markdown",
   "metadata": {}
  },
  {
   "cell_type": "code",
   "execution_count": 10,
   "metadata": {},
   "outputs": [
    {
     "output_type": "execute_result",
     "data": {
      "text/plain": [
       "      tax_id  tax_level  genus_tax_id  \\\n",
       "0    1980421          2       1980421   \n",
       "1    1980610          1       1980421   \n",
       "2 -200011006          2    -200011006   \n",
       "3    2603435          1    -200011006   \n",
       "4    1884455          2       1884455   \n",
       "\n",
       "                                             name category  SRR11440601  \\\n",
       "0                                      Phasivirus  viruses       1425.0   \n",
       "1                   Phasi Charoen-like phasivirus  viruses       1425.0   \n",
       "2  non-genus-specific reads in family Totiviridae  viruses        244.0   \n",
       "3                         Aedes aegypti totivirus  viruses        244.0   \n",
       "4                                      Anphevirus  viruses         80.0   \n",
       "\n",
       "   SRR11440602  SRR11440603  SRR11440604  SRR11440605  ...  SRR11440735  \\\n",
       "0       8477.0       7805.0       8229.0       8353.0  ...       2582.0   \n",
       "1       8477.0       7805.0       8229.0       8353.0  ...       2582.0   \n",
       "2         16.0         12.0         20.0         17.0  ...         10.0   \n",
       "3          NaN          NaN          NaN          NaN  ...          NaN   \n",
       "4        204.0        378.0        259.0        202.0  ...        461.0   \n",
       "\n",
       "   SRR11440736  SRR11440737  SRR11440738  SRR11440739  SRR11440740  \\\n",
       "0       3136.0       3071.0       2262.0       2121.0       2302.0   \n",
       "1       3136.0       3071.0       2262.0       2121.0       2302.0   \n",
       "2         18.0          8.0          NaN          NaN          NaN   \n",
       "3          NaN          NaN          NaN          NaN          NaN   \n",
       "4        646.0        580.0        424.0        418.0        518.0   \n",
       "\n",
       "   SRR11440741  SRR11440742  SRR11440743  SRR11440744  \n",
       "0       2293.0       1453.0        638.0        634.0  \n",
       "1       2293.0       1453.0        638.0        634.0  \n",
       "2          NaN          4.0          4.0         89.0  \n",
       "3          NaN          NaN          NaN         89.0  \n",
       "4        373.0         40.0        102.0        120.0  \n",
       "\n",
       "[5 rows x 149 columns]"
      ],
      "text/html": "<div>\n<style scoped>\n    .dataframe tbody tr th:only-of-type {\n        vertical-align: middle;\n    }\n\n    .dataframe tbody tr th {\n        vertical-align: top;\n    }\n\n    .dataframe thead th {\n        text-align: right;\n    }\n</style>\n<table border=\"1\" class=\"dataframe\">\n  <thead>\n    <tr style=\"text-align: right;\">\n      <th></th>\n      <th>tax_id</th>\n      <th>tax_level</th>\n      <th>genus_tax_id</th>\n      <th>name</th>\n      <th>category</th>\n      <th>SRR11440601</th>\n      <th>SRR11440602</th>\n      <th>SRR11440603</th>\n      <th>SRR11440604</th>\n      <th>SRR11440605</th>\n      <th>...</th>\n      <th>SRR11440735</th>\n      <th>SRR11440736</th>\n      <th>SRR11440737</th>\n      <th>SRR11440738</th>\n      <th>SRR11440739</th>\n      <th>SRR11440740</th>\n      <th>SRR11440741</th>\n      <th>SRR11440742</th>\n      <th>SRR11440743</th>\n      <th>SRR11440744</th>\n    </tr>\n  </thead>\n  <tbody>\n    <tr>\n      <th>0</th>\n      <td>1980421</td>\n      <td>2</td>\n      <td>1980421</td>\n      <td>Phasivirus</td>\n      <td>viruses</td>\n      <td>1425.0</td>\n      <td>8477.0</td>\n      <td>7805.0</td>\n      <td>8229.0</td>\n      <td>8353.0</td>\n      <td>...</td>\n      <td>2582.0</td>\n      <td>3136.0</td>\n      <td>3071.0</td>\n      <td>2262.0</td>\n      <td>2121.0</td>\n      <td>2302.0</td>\n      <td>2293.0</td>\n      <td>1453.0</td>\n      <td>638.0</td>\n      <td>634.0</td>\n    </tr>\n    <tr>\n      <th>1</th>\n      <td>1980610</td>\n      <td>1</td>\n      <td>1980421</td>\n      <td>Phasi Charoen-like phasivirus</td>\n      <td>viruses</td>\n      <td>1425.0</td>\n      <td>8477.0</td>\n      <td>7805.0</td>\n      <td>8229.0</td>\n      <td>8353.0</td>\n      <td>...</td>\n      <td>2582.0</td>\n      <td>3136.0</td>\n      <td>3071.0</td>\n      <td>2262.0</td>\n      <td>2121.0</td>\n      <td>2302.0</td>\n      <td>2293.0</td>\n      <td>1453.0</td>\n      <td>638.0</td>\n      <td>634.0</td>\n    </tr>\n    <tr>\n      <th>2</th>\n      <td>-200011006</td>\n      <td>2</td>\n      <td>-200011006</td>\n      <td>non-genus-specific reads in family Totiviridae</td>\n      <td>viruses</td>\n      <td>244.0</td>\n      <td>16.0</td>\n      <td>12.0</td>\n      <td>20.0</td>\n      <td>17.0</td>\n      <td>...</td>\n      <td>10.0</td>\n      <td>18.0</td>\n      <td>8.0</td>\n      <td>NaN</td>\n      <td>NaN</td>\n      <td>NaN</td>\n      <td>NaN</td>\n      <td>4.0</td>\n      <td>4.0</td>\n      <td>89.0</td>\n    </tr>\n    <tr>\n      <th>3</th>\n      <td>2603435</td>\n      <td>1</td>\n      <td>-200011006</td>\n      <td>Aedes aegypti totivirus</td>\n      <td>viruses</td>\n      <td>244.0</td>\n      <td>NaN</td>\n      <td>NaN</td>\n      <td>NaN</td>\n      <td>NaN</td>\n      <td>...</td>\n      <td>NaN</td>\n      <td>NaN</td>\n      <td>NaN</td>\n      <td>NaN</td>\n      <td>NaN</td>\n      <td>NaN</td>\n      <td>NaN</td>\n      <td>NaN</td>\n      <td>NaN</td>\n      <td>89.0</td>\n    </tr>\n    <tr>\n      <th>4</th>\n      <td>1884455</td>\n      <td>2</td>\n      <td>1884455</td>\n      <td>Anphevirus</td>\n      <td>viruses</td>\n      <td>80.0</td>\n      <td>204.0</td>\n      <td>378.0</td>\n      <td>259.0</td>\n      <td>202.0</td>\n      <td>...</td>\n      <td>461.0</td>\n      <td>646.0</td>\n      <td>580.0</td>\n      <td>424.0</td>\n      <td>418.0</td>\n      <td>518.0</td>\n      <td>373.0</td>\n      <td>40.0</td>\n      <td>102.0</td>\n      <td>120.0</td>\n    </tr>\n  </tbody>\n</table>\n<p>5 rows × 149 columns</p>\n</div>"
     },
     "metadata": {},
     "execution_count": 10
    }
   ],
   "source": [
    "df_merged_cnts.columns=colnames\n",
    "df_merged_cnts.head()"
   ]
  },
  {
   "source": [
    "## 4&5: Remove all eukaryota and then split into two files (level 1 taxa eg spp, and level 2 taxa eg genus). "
   ],
   "cell_type": "markdown",
   "metadata": {}
  },
  {
   "cell_type": "code",
   "execution_count": 11,
   "metadata": {},
   "outputs": [],
   "source": [
    "df_merged_cnts_notEuk1=df_merged_cnts.loc[(df_merged_cnts.category != 'eukaryota') & (df_merged_cnts.tax_level == 1)]\n",
    "df_merged_cnts_notEuk2=df_merged_cnts.loc[(df_merged_cnts.category != 'eukaryota') & (df_merged_cnts.tax_level == 2)]\n",
    "\n",
    "# df_merged_cnts_notEuk.head()\n",
    "df_merged_cnts_notEuk1.to_csv('totalCounts_notEuk_taxLevel1.csv') # excluding all eukayotes (eg. mice but also fungus:( )\n",
    "df_merged_cnts_notEuk2.to_csv('totalCounts_notEuk_taxLevel2.csv') # excluding all eukayotes (eg. mice but also fungus:( )"
   ]
  },
  {
   "cell_type": "code",
   "execution_count": null,
   "metadata": {},
   "outputs": [],
   "source": []
  }
 ]
}